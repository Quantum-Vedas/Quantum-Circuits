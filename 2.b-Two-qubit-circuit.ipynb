{
 "cells": [
  {
   "cell_type": "markdown",
   "metadata": {},
   "source": [
    "### Two Qubit Circuits"
   ]
  },
  {
   "cell_type": "code",
   "execution_count": 1,
   "metadata": {},
   "outputs": [],
   "source": [
    "from qiskit import *\n",
    "from math import pi\n",
    "import numpy as np\n",
    "from qiskit.visualization import *\n",
    "import matplotlib.pyplot as plt\n",
    "from qutip import *"
   ]
  },
  {
   "cell_type": "markdown",
   "metadata": {},
   "source": [
    "#### 2.  Double qubit circuit"
   ]
  },
  {
   "cell_type": "markdown",
   "metadata": {},
   "source": [
    "Basis states: $|00 \\rangle, |01 \\rangle, |10 \\rangle,|11 \\rangle $\n",
    "\n",
    "$ \\psi _{2q} = \\alpha |00 \\rangle + \\beta |01 \\rangle + \\gamma |10 \\rangle + \\delta |11 \\rangle $ where $\\alpha,\\beta,\\gamma, \\delta \\in \\mathcal{C}^{4}$\n",
    "\n",
    "$\\alpha^{2} + \\beta^{2} + \\gamma^{2} +  \\delta^{2} = 1$\n"
   ]
  },
  {
   "cell_type": "markdown",
   "metadata": {},
   "source": [
    "###### 2.1. $I \\otimes U$"
   ]
  },
  {
   "cell_type": "code",
   "execution_count": 10,
   "metadata": {},
   "outputs": [
    {
     "data": {
      "image/png": "[encoded data removed]",
      "text/plain": [
       "<Figure size 238.392x144.48 with 1 Axes>"
      ]
     },
     "execution_count": 10,
     "metadata": {},
     "output_type": "execute_result"
    }
   ],
   "source": [
    "qc = QuantumCircuit(2)\n",
    "qc.h(0)\n",
    "qc.draw(output='mpl')"
   ]
  },
  {
   "cell_type": "code",
   "execution_count": 11,
   "metadata": {},
   "outputs": [
    {
     "name": "stdout",
     "output_type": "stream",
     "text": [
      "[[ 0.707+0.j  0.707-0.j  0.   +0.j  0.   +0.j]\n",
      " [ 0.707+0.j -0.707+0.j  0.   +0.j  0.   +0.j]\n",
      " [ 0.   +0.j  0.   +0.j  0.707+0.j  0.707-0.j]\n",
      " [ 0.   +0.j  0.   +0.j  0.707+0.j -0.707+0.j]]\n"
     ]
    }
   ],
   "source": [
    "backend = Aer.get_backend('unitary_simulator')\n",
    "job = execute(qc, backend)\n",
    "result = job.result()\n",
    "print(result.get_unitary(qc, decimals=3))"
   ]
  },
  {
   "cell_type": "code",
   "execution_count": 12,
   "metadata": {},
   "outputs": [
    {
     "data": {
      "text/plain": [
       "array([[ 0.707+0.j,  0.707+0.j,  0.   +0.j,  0.   +0.j],\n",
       "       [ 0.707+0.j, -0.707+0.j,  0.   +0.j, -0.   +0.j],\n",
       "       [ 0.   +0.j,  0.   +0.j,  0.707+0.j,  0.707+0.j],\n",
       "       [ 0.   +0.j, -0.   +0.j,  0.707+0.j, -0.707+0.j]])"
      ]
     },
     "execution_count": 12,
     "metadata": {},
     "output_type": "execute_result"
    }
   ],
   "source": [
    "H = np.array([[ 0.707+0.j,  0.707-0.j],[ 0.707+0.j, -0.707+0.j]])\n",
    "I = np.eye(2)\n",
    "np.kron(I,H)"
   ]
  },
  {
   "cell_type": "markdown",
   "metadata": {},
   "source": [
    "###### 2.2. $U \\otimes I$"
   ]
  },
  {
   "cell_type": "code",
   "execution_count": 13,
   "metadata": {},
   "outputs": [
    {
     "data": {
      "image/png": "[encoded data removed]",
      "text/plain": [
       "<Figure size 238.392x144.48 with 1 Axes>"
      ]
     },
     "execution_count": 13,
     "metadata": {},
     "output_type": "execute_result"
    }
   ],
   "source": [
    "qc = QuantumCircuit(2)\n",
    "qc.h(1)\n",
    "qc.draw(output='mpl')"
   ]
  },
  {
   "cell_type": "code",
   "execution_count": 14,
   "metadata": {},
   "outputs": [
    {
     "name": "stdout",
     "output_type": "stream",
     "text": [
      "[[ 0.707+0.j  0.   +0.j  0.707-0.j  0.   +0.j]\n",
      " [ 0.   +0.j  0.707+0.j  0.   +0.j  0.707-0.j]\n",
      " [ 0.707+0.j  0.   +0.j -0.707+0.j  0.   +0.j]\n",
      " [ 0.   +0.j  0.707+0.j  0.   +0.j -0.707+0.j]]\n"
     ]
    }
   ],
   "source": [
    "backend = Aer.get_backend('unitary_simulator')\n",
    "job = execute(qc, backend)\n",
    "result = job.result()\n",
    "print(result.get_unitary(qc, decimals=3))"
   ]
  },
  {
   "cell_type": "code",
   "execution_count": 15,
   "metadata": {},
   "outputs": [
    {
     "data": {
      "text/plain": [
       "array([[ 0.707+0.j,  0.   +0.j,  0.707+0.j,  0.   +0.j],\n",
       "       [ 0.   +0.j,  0.707+0.j,  0.   +0.j,  0.707+0.j],\n",
       "       [ 0.707+0.j,  0.   +0.j, -0.707+0.j, -0.   +0.j],\n",
       "       [ 0.   +0.j,  0.707+0.j, -0.   +0.j, -0.707+0.j]])"
      ]
     },
     "execution_count": 15,
     "metadata": {},
     "output_type": "execute_result"
    }
   ],
   "source": [
    "H = np.array([[ 0.707+0.j,  0.707-0.j],[ 0.707+0.j, -0.707+0.j]])\n",
    "I = np.eye(2)\n",
    "np.kron(H,I)"
   ]
  },
  {
   "cell_type": "markdown",
   "metadata": {},
   "source": [
    "###### 2.3 $U \\otimes U$"
   ]
  },
  {
   "cell_type": "code",
   "execution_count": 16,
   "metadata": {},
   "outputs": [
    {
     "data": {
      "image/png": "[encoded data removed]",
      "text/plain": [
       "<Figure size 249.228x144.48 with 1 Axes>"
      ]
     },
     "execution_count": 16,
     "metadata": {},
     "output_type": "execute_result"
    }
   ],
   "source": [
    "q = QuantumRegister(2)\n",
    "qc = QuantumCircuit(q)\n",
    "qc.h(0)\n",
    "qc.h(1)\n",
    "qc.draw(output='mpl')"
   ]
  },
  {
   "cell_type": "code",
   "execution_count": 17,
   "metadata": {},
   "outputs": [
    {
     "name": "stdout",
     "output_type": "stream",
     "text": [
      "[[ 0.5+0.j  0.5-0.j  0.5-0.j  0.5-0.j]\n",
      " [ 0.5+0.j -0.5+0.j  0.5-0.j -0.5+0.j]\n",
      " [ 0.5+0.j  0.5-0.j -0.5+0.j -0.5+0.j]\n",
      " [ 0.5+0.j -0.5+0.j -0.5+0.j  0.5-0.j]]\n"
     ]
    }
   ],
   "source": [
    "backend = Aer.get_backend('unitary_simulator')\n",
    "job = execute(qc, backend)\n",
    "result = job.result()\n",
    "print(result.get_unitary(qc, decimals=3))"
   ]
  },
  {
   "cell_type": "code",
   "execution_count": 18,
   "metadata": {},
   "outputs": [
    {
     "data": {
      "text/plain": [
       "array([[ 0.499849+0.j,  0.499849+0.j,  0.499849+0.j,  0.499849+0.j],\n",
       "       [ 0.499849+0.j, -0.499849+0.j,  0.499849+0.j, -0.499849+0.j],\n",
       "       [ 0.499849+0.j,  0.499849+0.j, -0.499849+0.j, -0.499849+0.j],\n",
       "       [ 0.499849+0.j, -0.499849+0.j, -0.499849+0.j,  0.499849-0.j]])"
      ]
     },
     "execution_count": 18,
     "metadata": {},
     "output_type": "execute_result"
    }
   ],
   "source": [
    "H = np.array([[ 0.707+0.j,  0.707-0.j],[ 0.707+0.j, -0.707+0.j]])\n",
    "np.kron(H,H)"
   ]
  },
  {
   "cell_type": "markdown",
   "metadata": {},
   "source": [
    "#### 2.4.  $(U \\otimes U) \\times (U\\otimes U)$"
   ]
  },
  {
   "cell_type": "code",
   "execution_count": 54,
   "metadata": {},
   "outputs": [
    {
     "data": {
      "image/png": "[encoded data removed]",
      "text/plain": [
       "<Figure size 479.192x144.48 with 1 Axes>"
      ]
     },
     "execution_count": 54,
     "metadata": {},
     "output_type": "execute_result"
    }
   ],
   "source": [
    "qc = QuantumCircuit(2)\n",
    "qc.barrier()\n",
    "qc0 = qc.copy()\n",
    "qc.h(0)\n",
    "qc.x(1)\n",
    "qc.barrier()\n",
    "qc1 = qc.copy()\n",
    "qc.y(0)\n",
    "qc.h(1)\n",
    "qc.barrier()\n",
    "qc2 = qc.copy()\n",
    "qc.draw(output='mpl')"
   ]
  },
  {
   "cell_type": "code",
   "execution_count": 57,
   "metadata": {},
   "outputs": [
    {
     "name": "stdout",
     "output_type": "stream",
     "text": [
      "[[-0.-0.5j  0.+0.5j  0.-0.5j  0.+0.5j]\n",
      " [ 0.+0.5j  0.+0.5j  0.+0.5j  0.+0.5j]\n",
      " [ 0.+0.5j -0.-0.5j  0.-0.5j  0.+0.5j]\n",
      " [-0.-0.5j -0.-0.5j  0.+0.5j  0.+0.5j]]\n"
     ]
    }
   ],
   "source": [
    "backend = Aer.get_backend('unitary_simulator')\n",
    "job = execute(qc, backend)\n",
    "result = job.result()\n",
    "print(result.get_unitary(qc, decimals=3))"
   ]
  },
  {
   "cell_type": "markdown",
   "metadata": {},
   "source": [
    "#### Operator : $(H \\otimes Y) \\times (X\\otimes H)$"
   ]
  },
  {
   "cell_type": "code",
   "execution_count": 58,
   "metadata": {},
   "outputs": [
    {
     "data": {
      "text/plain": [
       "array([[0.-0.499849j, 0.+0.499849j, 0.-0.499849j, 0.+0.499849j],\n",
       "       [0.+0.499849j, 0.+0.499849j, 0.+0.499849j, 0.+0.499849j],\n",
       "       [0.+0.499849j, 0.-0.499849j, 0.-0.499849j, 0.+0.499849j],\n",
       "       [0.-0.499849j, 0.-0.499849j, 0.+0.499849j, 0.+0.499849j]])"
      ]
     },
     "execution_count": 58,
     "metadata": {},
     "output_type": "execute_result"
    }
   ],
   "source": [
    "H = np.array([[ 0.707+0.j,  0.707-0.j],[ 0.707+0.j, -0.707+0.j]])\n",
    "X = sigmax()\n",
    "Y = sigmay()\n",
    "XKH = np.kron(X,H)\n",
    "HKY = np.kron(H,Y)\n",
    "np.dot(HKY,XKH)"
   ]
  },
  {
   "cell_type": "code",
   "execution_count": 59,
   "metadata": {},
   "outputs": [
    {
     "name": "stdout",
     "output_type": "stream",
     "text": [
      "[1.+0.j 0.+0.j 0.+0.j 0.+0.j]\n",
      "[0.        +0.j 0.        +0.j 0.70710678+0.j 0.70710678+0.j]\n",
      "[-6.123234e-17-0.5j  6.123234e-17+0.5j  6.123234e-17+0.5j\n",
      " -6.123234e-17-0.5j]\n"
     ]
    }
   ],
   "source": [
    "backend = Aer.get_backend('statevector_simulator')\n",
    "qc_vec = []\n",
    "for qc in [qc0,qc1,qc2]:\n",
    "    out = execute(qc,backend).result().get_statevector()\n",
    "    qc_vec.append(out)\n",
    "    print(out)"
   ]
  },
  {
   "cell_type": "markdown",
   "metadata": {},
   "source": [
    "#### State Vectors"
   ]
  },
  {
   "cell_type": "code",
   "execution_count": 60,
   "metadata": {},
   "outputs": [
    {
     "data": {
      "image/png": "[encoded data removed]",
      "text/plain": [
       "<Figure size 414.176x84.28 with 1 Axes>"
      ]
     },
     "execution_count": 60,
     "metadata": {},
     "output_type": "execute_result"
    }
   ],
   "source": [
    "qca = QuantumCircuit(1)\n",
    "\n",
    "qca.barrier()\n",
    "qca0 = qca.copy()\n",
    "qca.h(0)\n",
    "\n",
    "qca.barrier()\n",
    "qca1 = qca.copy()\n",
    "qca.y(0)\n",
    "\n",
    "qca.barrier()\n",
    "qca2 = qca.copy()\n",
    "qca.draw(output='mpl')"
   ]
  },
  {
   "cell_type": "code",
   "execution_count": 61,
   "metadata": {},
   "outputs": [
    {
     "name": "stdout",
     "output_type": "stream",
     "text": [
      "[1.+0.j 0.+0.j]\n",
      "[0.70710678+0.j 0.70710678+0.j]\n",
      "[0.-0.70710678j 0.+0.70710678j]\n"
     ]
    }
   ],
   "source": [
    "backend = Aer.get_backend('statevector_simulator')\n",
    "qca_vec = []\n",
    "for qc in [qca0,qca1,qca2]:\n",
    "    out = execute(qc,backend).result().get_statevector()\n",
    "    qca_vec.append(out)\n",
    "    print(out)"
   ]
  },
  {
   "cell_type": "code",
   "execution_count": 62,
   "metadata": {},
   "outputs": [
    {
     "data": {
      "image/png": "[encoded data removed]",
      "text/plain": [
       "<Figure size 414.176x84.28 with 1 Axes>"
      ]
     },
     "execution_count": 62,
     "metadata": {},
     "output_type": "execute_result"
    }
   ],
   "source": [
    "qcb = QuantumCircuit(1)\n",
    "\n",
    "qcb.barrier()\n",
    "qcb0 = qcb.copy()\n",
    "qcb.x(0)\n",
    "\n",
    "qcb.barrier()\n",
    "qcb1 = qcb.copy()\n",
    "qcb.h(0)\n",
    "\n",
    "qcb.barrier()\n",
    "qcb2 = qcb.copy()\n",
    "qcb.draw(output='mpl')"
   ]
  },
  {
   "cell_type": "code",
   "execution_count": 63,
   "metadata": {},
   "outputs": [
    {
     "name": "stdout",
     "output_type": "stream",
     "text": [
      "[1.+0.j 0.+0.j]\n",
      "[0.+0.j 1.+0.j]\n",
      "[ 0.70710678-8.65956056e-17j -0.70710678+8.65956056e-17j]\n"
     ]
    }
   ],
   "source": [
    "backend = Aer.get_backend('statevector_simulator')\n",
    "qcb_vec = []\n",
    "for qc in [qcb0,qcb1,qcb2]:\n",
    "    out = execute(qc,backend).result().get_statevector()\n",
    "    qcb_vec.append(out)\n",
    "    print(out)"
   ]
  },
  {
   "cell_type": "markdown",
   "metadata": {},
   "source": [
    "$\\psi_{2q} = \\psi_{q} \\otimes \\psi_{q}$"
   ]
  },
  {
   "cell_type": "code",
   "execution_count": 64,
   "metadata": {},
   "outputs": [
    {
     "name": "stdout",
     "output_type": "stream",
     "text": [
      "[1.+0.j 0.+0.j 0.+0.j 0.+0.j] | [1.+0.j 0.+0.j 0.+0.j 0.+0.j]\n",
      "[0.        +0.j 0.        +0.j 0.70710678+0.j 0.70710678+0.j] | [0.        +0.j 0.        +0.j 0.70710678+0.j 0.70710678+0.j]\n",
      "[-6.123234e-17-0.5j  6.123234e-17+0.5j  6.123234e-17+0.5j\n",
      " -6.123234e-17-0.5j] | [-6.123234e-17-0.5j  6.123234e-17+0.5j  6.123234e-17+0.5j\n",
      " -6.123234e-17-0.5j]\n"
     ]
    }
   ],
   "source": [
    "for qcv,qcav,qcbv in zip(qc_vec,qca_vec,qcb_vec):\n",
    "    print(qcv,\"|\", np.kron(qcbv,qcav))"
   ]
  },
  {
   "cell_type": "markdown",
   "metadata": {},
   "source": [
    "------------------"
   ]
  }
 ],
 "metadata": {
  "kernelspec": {
   "display_name": "Python 3",
   "language": "python",
   "name": "python3"
  },
  "language_info": {
   "codemirror_mode": {
    "name": "ipython",
    "version": 3
   },
   "file_extension": ".py",
   "mimetype": "text/x-python",
   "name": "python",
   "nbconvert_exporter": "python",
   "pygments_lexer": "ipython3",
   "version": "3.7.3"
  }
 },
 "nbformat": 4,
 "nbformat_minor": 2
}
