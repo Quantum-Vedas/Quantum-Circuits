{
 "cells": [
  {
   "cell_type": "markdown",
   "metadata": {},
   "source": [
    "### Three Qubit Circuits"
   ]
  },
  {
   "cell_type": "code",
   "execution_count": 1,
   "metadata": {},
   "outputs": [],
   "source": [
    "from qiskit import *\n",
    "from math import pi\n",
    "import numpy as np\n",
    "from qiskit.visualization import *\n",
    "import matplotlib.pyplot as plt\n",
    "from qutip import *"
   ]
  },
  {
   "cell_type": "markdown",
   "metadata": {},
   "source": [
    "#### 3. Three qubit circuit"
   ]
  },
  {
   "cell_type": "markdown",
   "metadata": {},
   "source": [
    "Base states: |000>,|001>,|010>,|011>,|100>,|110>,|101>,|111>"
   ]
  },
  {
   "cell_type": "markdown",
   "metadata": {},
   "source": [
    "###### 3.1.  $I \\otimes I \\otimes U$"
   ]
  },
  {
   "cell_type": "code",
   "execution_count": 2,
   "metadata": {},
   "outputs": [
    {
     "data": {
      "image/png": "[encoded data removed]",
      "text/plain": [
       "<Figure size 309.428x204.68 with 1 Axes>"
      ]
     },
     "execution_count": 2,
     "metadata": {},
     "output_type": "execute_result"
    }
   ],
   "source": [
    "q = QuantumRegister(3)\n",
    "qc = QuantumCircuit(q)\n",
    "qc.u3(pi/2,pi/2,pi/2,q[0])\n",
    "qc.draw(output='mpl')"
   ]
  },
  {
   "cell_type": "code",
   "execution_count": 4,
   "metadata": {},
   "outputs": [
    {
     "name": "stdout",
     "output_type": "stream",
     "text": [
      "[[ 0.707+0.j    -0.   -0.707j  0.   +0.j     0.   +0.j     0.   +0.j\n",
      "   0.   +0.j     0.   +0.j     0.   +0.j   ]\n",
      " [ 0.   +0.707j -0.707+0.j     0.   +0.j     0.   +0.j     0.   +0.j\n",
      "   0.   +0.j     0.   +0.j     0.   +0.j   ]\n",
      " [ 0.   +0.j     0.   +0.j     0.707+0.j    -0.   -0.707j  0.   +0.j\n",
      "   0.   +0.j     0.   +0.j     0.   +0.j   ]\n",
      " [ 0.   +0.j     0.   +0.j     0.   +0.707j -0.707+0.j     0.   +0.j\n",
      "   0.   +0.j     0.   +0.j     0.   +0.j   ]\n",
      " [ 0.   +0.j     0.   +0.j     0.   +0.j     0.   +0.j     0.707+0.j\n",
      "  -0.   -0.707j  0.   +0.j     0.   +0.j   ]\n",
      " [ 0.   +0.j     0.   +0.j     0.   +0.j     0.   +0.j     0.   +0.707j\n",
      "  -0.707+0.j     0.   +0.j     0.   +0.j   ]\n",
      " [ 0.   +0.j     0.   +0.j     0.   +0.j     0.   +0.j     0.   +0.j\n",
      "   0.   +0.j     0.707+0.j    -0.   -0.707j]\n",
      " [ 0.   +0.j     0.   +0.j     0.   +0.j     0.   +0.j     0.   +0.j\n",
      "   0.   +0.j     0.   +0.707j -0.707+0.j   ]]\n"
     ]
    }
   ],
   "source": [
    "backend = Aer.get_backend('unitary_simulator')\n",
    "job = execute(qc, backend)\n",
    "result = job.result()\n",
    "print(result.get_unitary(qc, decimals=3))"
   ]
  },
  {
   "cell_type": "markdown",
   "metadata": {},
   "source": [
    "###### 3.2.   $I \\otimes U \\otimes I$"
   ]
  },
  {
   "cell_type": "code",
   "execution_count": 5,
   "metadata": {},
   "outputs": [
    {
     "data": {
      "image/png": "[encoded data removed]",
      "text/plain": [
       "<Figure size 309.428x204.68 with 1 Axes>"
      ]
     },
     "execution_count": 5,
     "metadata": {},
     "output_type": "execute_result"
    }
   ],
   "source": [
    "q = QuantumRegister(3)\n",
    "qc = QuantumCircuit(q)\n",
    "qc.u3(pi/2,pi/2,pi/2,q[1])\n",
    "qc.draw(output='mpl')"
   ]
  },
  {
   "cell_type": "code",
   "execution_count": 6,
   "metadata": {},
   "outputs": [
    {
     "name": "stdout",
     "output_type": "stream",
     "text": [
      "[[ 0.707+0.j     0.   +0.j    -0.   -0.707j  0.   +0.j     0.   +0.j\n",
      "   0.   +0.j     0.   +0.j     0.   +0.j   ]\n",
      " [ 0.   +0.j     0.707+0.j     0.   +0.j    -0.   -0.707j  0.   +0.j\n",
      "   0.   +0.j     0.   +0.j     0.   +0.j   ]\n",
      " [ 0.   +0.707j  0.   +0.j    -0.707+0.j     0.   +0.j     0.   +0.j\n",
      "   0.   +0.j     0.   +0.j     0.   +0.j   ]\n",
      " [ 0.   +0.j     0.   +0.707j  0.   +0.j    -0.707+0.j     0.   +0.j\n",
      "   0.   +0.j     0.   +0.j     0.   +0.j   ]\n",
      " [ 0.   +0.j     0.   +0.j     0.   +0.j     0.   +0.j     0.707+0.j\n",
      "   0.   +0.j    -0.   -0.707j  0.   +0.j   ]\n",
      " [ 0.   +0.j     0.   +0.j     0.   +0.j     0.   +0.j     0.   +0.j\n",
      "   0.707+0.j     0.   +0.j    -0.   -0.707j]\n",
      " [ 0.   +0.j     0.   +0.j     0.   +0.j     0.   +0.j     0.   +0.707j\n",
      "   0.   +0.j    -0.707+0.j     0.   +0.j   ]\n",
      " [ 0.   +0.j     0.   +0.j     0.   +0.j     0.   +0.j     0.   +0.j\n",
      "   0.   +0.707j  0.   +0.j    -0.707+0.j   ]]\n"
     ]
    }
   ],
   "source": [
    "backend = Aer.get_backend('unitary_simulator')\n",
    "job = execute(qc, backend)\n",
    "result = job.result()\n",
    "print(result.get_unitary(qc, decimals=3))"
   ]
  },
  {
   "cell_type": "markdown",
   "metadata": {},
   "source": [
    "###### 3.3. $U \\otimes I \\otimes I$"
   ]
  },
  {
   "cell_type": "code",
   "execution_count": 7,
   "metadata": {},
   "outputs": [
    {
     "data": {
      "image/png": "[encoded data removed]",
      "text/plain": [
       "<Figure size 309.428x204.68 with 1 Axes>"
      ]
     },
     "execution_count": 7,
     "metadata": {},
     "output_type": "execute_result"
    }
   ],
   "source": [
    "q = QuantumRegister(3)\n",
    "qc = QuantumCircuit(q)\n",
    "qc.u3(pi/2,pi/2,pi/2,q[2])\n",
    "qc.draw(output='mpl')"
   ]
  },
  {
   "cell_type": "code",
   "execution_count": 8,
   "metadata": {},
   "outputs": [
    {
     "name": "stdout",
     "output_type": "stream",
     "text": [
      "[[ 0.707+0.j     0.   +0.j     0.   +0.j     0.   +0.j    -0.   -0.707j\n",
      "   0.   +0.j     0.   +0.j     0.   +0.j   ]\n",
      " [ 0.   +0.j     0.707+0.j     0.   +0.j     0.   +0.j     0.   +0.j\n",
      "  -0.   -0.707j  0.   +0.j     0.   +0.j   ]\n",
      " [ 0.   +0.j     0.   +0.j     0.707+0.j     0.   +0.j     0.   +0.j\n",
      "   0.   +0.j    -0.   -0.707j  0.   +0.j   ]\n",
      " [ 0.   +0.j     0.   +0.j     0.   +0.j     0.707+0.j     0.   +0.j\n",
      "   0.   +0.j     0.   +0.j    -0.   -0.707j]\n",
      " [ 0.   +0.707j  0.   +0.j     0.   +0.j     0.   +0.j    -0.707+0.j\n",
      "   0.   +0.j     0.   +0.j     0.   +0.j   ]\n",
      " [ 0.   +0.j     0.   +0.707j  0.   +0.j     0.   +0.j     0.   +0.j\n",
      "  -0.707+0.j     0.   +0.j     0.   +0.j   ]\n",
      " [ 0.   +0.j     0.   +0.j     0.   +0.707j  0.   +0.j     0.   +0.j\n",
      "   0.   +0.j    -0.707+0.j     0.   +0.j   ]\n",
      " [ 0.   +0.j     0.   +0.j     0.   +0.j     0.   +0.707j  0.   +0.j\n",
      "   0.   +0.j     0.   +0.j    -0.707+0.j   ]]\n"
     ]
    }
   ],
   "source": [
    "backend = Aer.get_backend('unitary_simulator')\n",
    "job = execute(qc, backend)\n",
    "result = job.result()\n",
    "print(result.get_unitary(qc, decimals=3))"
   ]
  },
  {
   "cell_type": "markdown",
   "metadata": {},
   "source": [
    "###### 3.4. $I \\otimes U \\otimes U$"
   ]
  },
  {
   "cell_type": "code",
   "execution_count": 9,
   "metadata": {},
   "outputs": [
    {
     "data": {
      "image/png": "[encoded data removed]",
      "text/plain": [
       "<Figure size 309.428x204.68 with 1 Axes>"
      ]
     },
     "execution_count": 9,
     "metadata": {},
     "output_type": "execute_result"
    }
   ],
   "source": [
    "q = QuantumRegister(3)\n",
    "qc = QuantumCircuit(q)\n",
    "qc.u3(pi/2,pi/2,pi/2,q[0])\n",
    "qc.u3(pi/2,pi/2,pi/2,q[1])\n",
    "qc.draw(output='mpl')"
   ]
  },
  {
   "cell_type": "code",
   "execution_count": 10,
   "metadata": {},
   "outputs": [
    {
     "name": "stdout",
     "output_type": "stream",
     "text": [
      "[[ 0.5+0.j  -0. -0.5j -0. -0.5j -0.5+0.j   0. +0.j   0. +0.j   0. +0.j\n",
      "   0. +0.j ]\n",
      " [ 0. +0.5j -0.5+0.j   0.5-0.j   0. +0.5j  0. +0.j   0. +0.j   0. +0.j\n",
      "   0. +0.j ]\n",
      " [ 0. +0.5j  0.5-0.j  -0.5+0.j   0. +0.5j  0. +0.j   0. +0.j   0. +0.j\n",
      "   0. +0.j ]\n",
      " [-0.5+0.j  -0. -0.5j -0. -0.5j  0.5-0.j   0. +0.j   0. +0.j   0. +0.j\n",
      "   0. +0.j ]\n",
      " [ 0. +0.j   0. +0.j   0. +0.j   0. +0.j   0.5+0.j  -0. -0.5j -0. -0.5j\n",
      "  -0.5+0.j ]\n",
      " [ 0. +0.j   0. +0.j   0. +0.j   0. +0.j   0. +0.5j -0.5+0.j   0.5-0.j\n",
      "   0. +0.5j]\n",
      " [ 0. +0.j   0. +0.j   0. +0.j   0. +0.j   0. +0.5j  0.5-0.j  -0.5+0.j\n",
      "   0. +0.5j]\n",
      " [ 0. +0.j   0. +0.j   0. +0.j   0. +0.j  -0.5+0.j  -0. -0.5j -0. -0.5j\n",
      "   0.5-0.j ]]\n"
     ]
    }
   ],
   "source": [
    "backend = Aer.get_backend('unitary_simulator')\n",
    "job = execute(qc, backend)\n",
    "result = job.result()\n",
    "print(result.get_unitary(qc, decimals=3))"
   ]
  },
  {
   "cell_type": "markdown",
   "metadata": {},
   "source": [
    "###### 3.4. $U \\otimes U \\otimes U$"
   ]
  },
  {
   "cell_type": "code",
   "execution_count": 11,
   "metadata": {},
   "outputs": [
    {
     "data": {
      "image/png": "[encoded data removed]",
      "text/plain": [
       "<Figure size 309.428x204.68 with 1 Axes>"
      ]
     },
     "execution_count": 11,
     "metadata": {},
     "output_type": "execute_result"
    }
   ],
   "source": [
    "q = QuantumRegister(3)\n",
    "qc = QuantumCircuit(q)\n",
    "qc.u3(pi/2,pi/2,pi/2,q[0])\n",
    "qc.u3(pi/2,pi/2,pi/2,q[1])\n",
    "qc.u3(pi/2,pi/2,pi/2,q[2])\n",
    "qc.draw(output='mpl')"
   ]
  },
  {
   "cell_type": "code",
   "execution_count": 12,
   "metadata": {},
   "outputs": [
    {
     "name": "stdout",
     "output_type": "stream",
     "text": [
      "[[ 0.354+0.j    -0.   -0.354j -0.   -0.354j -0.354+0.j    -0.   -0.354j\n",
      "  -0.354+0.j    -0.354+0.j     0.   +0.354j]\n",
      " [ 0.   +0.354j -0.354+0.j     0.354-0.j     0.   +0.354j  0.354-0.j\n",
      "   0.   +0.354j -0.   -0.354j  0.354-0.j   ]\n",
      " [ 0.   +0.354j  0.354-0.j    -0.354+0.j     0.   +0.354j  0.354-0.j\n",
      "  -0.   -0.354j  0.   +0.354j  0.354-0.j   ]\n",
      " [-0.354+0.j    -0.   -0.354j -0.   -0.354j  0.354-0.j     0.   +0.354j\n",
      "  -0.354+0.j    -0.354+0.j    -0.   -0.354j]\n",
      " [ 0.   +0.354j  0.354-0.j     0.354-0.j    -0.   -0.354j -0.354+0.j\n",
      "   0.   +0.354j  0.   +0.354j  0.354-0.j   ]\n",
      " [-0.354+0.j    -0.   -0.354j  0.   +0.354j -0.354+0.j    -0.   -0.354j\n",
      "   0.354-0.j    -0.354+0.j    -0.   -0.354j]\n",
      " [-0.354+0.j     0.   +0.354j -0.   -0.354j -0.354+0.j    -0.   -0.354j\n",
      "  -0.354+0.j     0.354-0.j    -0.   -0.354j]\n",
      " [-0.   -0.354j  0.354-0.j     0.354-0.j     0.   +0.354j  0.354-0.j\n",
      "   0.   +0.354j  0.   +0.354j -0.354+0.j   ]]\n"
     ]
    }
   ],
   "source": [
    "backend = Aer.get_backend('unitary_simulator')\n",
    "job = execute(qc, backend)\n",
    "result = job.result()\n",
    "print(result.get_unitary(qc, decimals=3))"
   ]
  },
  {
   "cell_type": "markdown",
   "metadata": {},
   "source": [
    "###### 3.5. $(U \\otimes U \\otimes U) \\times (U \\otimes U \\otimes U)$"
   ]
  },
  {
   "cell_type": "code",
   "execution_count": 13,
   "metadata": {},
   "outputs": [
    {
     "data": {
      "image/png": "[encoded data removed]",
      "text/plain": [
       "<Figure size 429.828x204.68 with 1 Axes>"
      ]
     },
     "execution_count": 13,
     "metadata": {},
     "output_type": "execute_result"
    }
   ],
   "source": [
    "q = QuantumRegister(3)\n",
    "qc = QuantumCircuit(q)\n",
    "qc.u3(pi/2,pi/2,pi/2,q[0])\n",
    "qc.u3(pi/2,pi/2,pi/2,q[0])\n",
    "qc.u3(pi/4,pi/4,pi/4,q[1])\n",
    "qc.u3(3*pi/4,3*pi/4,3*pi/4,q[1])\n",
    "qc.u3(pi/6,pi/6,pi/6,q[2])\n",
    "qc.u3(5*pi/6,5*pi/6,5*pi/6,q[2])\n",
    "qc.draw(output='mpl')"
   ]
  },
  {
   "cell_type": "code",
   "execution_count": 14,
   "metadata": {},
   "outputs": [
    {
     "name": "stdout",
     "output_type": "stream",
     "text": [
      "[[ 0.354+0.j     0.   +0.j     0.25 +0.25j   0.   +0.j     0.53 +0.306j\n",
      "   0.   +0.j     0.158+0.592j  0.   +0.j   ]\n",
      " [ 0.   +0.j     0.354+0.j     0.   +0.j     0.25 +0.25j   0.   +0.j\n",
      "   0.53 +0.306j  0.   +0.j     0.158+0.592j]\n",
      " [-0.25 +0.25j   0.   +0.j     0.354-0.j     0.   +0.j    -0.592+0.158j\n",
      "   0.   +0.j     0.53 +0.306j  0.   +0.j   ]\n",
      " [ 0.   +0.j    -0.25 +0.25j   0.   +0.j     0.354-0.j     0.   +0.j\n",
      "  -0.592+0.158j  0.   +0.j     0.53 +0.306j]\n",
      " [-0.53 +0.306j  0.   +0.j    -0.592-0.158j  0.   +0.j     0.354-0.j\n",
      "   0.   +0.j     0.25 +0.25j   0.   +0.j   ]\n",
      " [ 0.   +0.j    -0.53 +0.306j  0.   +0.j    -0.592-0.158j  0.   +0.j\n",
      "   0.354-0.j     0.   +0.j     0.25 +0.25j ]\n",
      " [ 0.158-0.592j  0.   +0.j    -0.53 +0.306j  0.   +0.j    -0.25 +0.25j\n",
      "   0.   +0.j     0.354-0.j     0.   +0.j   ]\n",
      " [ 0.   +0.j     0.158-0.592j  0.   +0.j    -0.53 +0.306j  0.   +0.j\n",
      "  -0.25 +0.25j   0.   +0.j     0.354-0.j   ]]\n"
     ]
    }
   ],
   "source": [
    "backend = Aer.get_backend('unitary_simulator')\n",
    "job = execute(qc, backend)\n",
    "result = job.result()\n",
    "print(result.get_unitary(qc, decimals=3))"
   ]
  },
  {
   "cell_type": "code",
   "execution_count": null,
   "metadata": {},
   "outputs": [],
   "source": []
  },
  {
   "cell_type": "code",
   "execution_count": null,
   "metadata": {},
   "outputs": [],
   "source": []
  }
 ],
 "metadata": {
  "kernelspec": {
   "display_name": "Python 3",
   "language": "python",
   "name": "python3"
  },
  "language_info": {
   "codemirror_mode": {
    "name": "ipython",
    "version": 3
   },
   "file_extension": ".py",
   "mimetype": "text/x-python",
   "name": "python",
   "nbconvert_exporter": "python",
   "pygments_lexer": "ipython3",
   "version": "3.7.3"
  }
 },
 "nbformat": 4,
 "nbformat_minor": 2
}
