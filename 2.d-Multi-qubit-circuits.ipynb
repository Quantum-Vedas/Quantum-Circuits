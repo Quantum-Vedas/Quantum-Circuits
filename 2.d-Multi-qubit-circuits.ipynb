{
 "cells": [
  {
   "cell_type": "markdown",
   "metadata": {},
   "source": [
    "### Muti Qubits Circuits"
   ]
  },
  {
   "cell_type": "code",
   "execution_count": 1,
   "metadata": {},
   "outputs": [],
   "source": [
    "from qiskit import *\n",
    "from math import pi\n",
    "import numpy as np\n",
    "from qiskit.visualization import *\n",
    "import matplotlib.pyplot as plt\n",
    "from qutip import *"
   ]
  },
  {
   "cell_type": "markdown",
   "metadata": {},
   "source": [
    "#### Controlled Phase Rotation"
   ]
  },
  {
   "cell_type": "code",
   "execution_count": 2,
   "metadata": {},
   "outputs": [
    {
     "data": {
      "image/png": "[encoded data removed]",
      "text/plain": [
       "<Figure size 249.228x144.48 with 1 Axes>"
      ]
     },
     "execution_count": 2,
     "metadata": {},
     "output_type": "execute_result"
    }
   ],
   "source": [
    "q = QuantumRegister(2)\n",
    "qc = QuantumCircuit(q)\n",
    "qc.cu1(pi/2,q[0], q[1])\n",
    "qc.draw(output='mpl')"
   ]
  },
  {
   "cell_type": "code",
   "execution_count": 3,
   "metadata": {},
   "outputs": [
    {
     "name": "stdout",
     "output_type": "stream",
     "text": [
      "[[1.+0.j 0.+0.j 0.+0.j 0.+0.j]\n",
      " [0.+0.j 1.+0.j 0.+0.j 0.+0.j]\n",
      " [0.+0.j 0.+0.j 1.+0.j 0.+0.j]\n",
      " [0.+0.j 0.+0.j 0.+0.j 0.+1.j]]\n"
     ]
    }
   ],
   "source": [
    "backend = Aer.get_backend('unitary_simulator')\n",
    "job = execute(qc, backend)\n",
    "result = job.result()\n",
    "print(result.get_unitary(qc, decimals=3))"
   ]
  },
  {
   "cell_type": "markdown",
   "metadata": {},
   "source": [
    "-------------------"
   ]
  },
  {
   "cell_type": "markdown",
   "metadata": {},
   "source": [
    "#### U operator and control phase gate"
   ]
  },
  {
   "cell_type": "markdown",
   "metadata": {},
   "source": [
    "$ (U_3 \\otimes I \\otimes I)  \\times (CU_1 \\otimes I ) \\times (I \\otimes U_3 \\otimes I)  \\times (I \\otimes CU_1) \\times (I \\otimes I \\otimes U)$"
   ]
  },
  {
   "cell_type": "code",
   "execution_count": 4,
   "metadata": {},
   "outputs": [
    {
     "data": {
      "image/png": "[encoded data removed]",
      "text/plain": [
       "<Figure size 670.628x204.68 with 1 Axes>"
      ]
     },
     "execution_count": 4,
     "metadata": {},
     "output_type": "execute_result"
    }
   ],
   "source": [
    "q = QuantumRegister(3)\n",
    "qc = QuantumCircuit(q)\n",
    "\n",
    "qc.u3(pi/2,pi/2,pi/2,q[0])\n",
    "qc.cu1(pi/2,q[0], q[1])\n",
    "qc.u3(pi/2,pi/2,pi/2,q[1])\n",
    "qc.cu1(pi/2,q[1], q[2])\n",
    "qc.u3(pi/2,pi/2,pi/2,q[2])\n",
    "\n",
    "qc.draw(output='mpl')"
   ]
  },
  {
   "cell_type": "code",
   "execution_count": 5,
   "metadata": {},
   "outputs": [
    {
     "name": "stdout",
     "output_type": "stream",
     "text": [
      "[[ 0.354+0.j    -0.   -0.354j -0.   -0.354j -0.354+0.j    -0.   -0.354j\n",
      "  -0.354+0.j    -0.354+0.j     0.   +0.354j]\n",
      " [ 0.   +0.354j -0.354+0.j     0.   +0.354j -0.354+0.j     0.354-0.j\n",
      "   0.   +0.354j  0.354-0.j     0.   +0.354j]\n",
      " [ 0.   +0.354j  0.354-0.j    -0.354+0.j     0.   +0.354j  0.   +0.354j\n",
      "   0.354-0.j    -0.354+0.j     0.   +0.354j]\n",
      " [-0.354+0.j    -0.   -0.354j  0.354-0.j     0.   +0.354j -0.354+0.j\n",
      "  -0.   -0.354j  0.354-0.j     0.   +0.354j]\n",
      " [ 0.   +0.354j  0.354-0.j     0.354-0.j    -0.   -0.354j -0.354+0.j\n",
      "   0.   +0.354j  0.   +0.354j  0.354-0.j   ]\n",
      " [-0.354+0.j    -0.   -0.354j -0.354+0.j    -0.   -0.354j -0.   -0.354j\n",
      "   0.354-0.j    -0.   -0.354j  0.354-0.j   ]\n",
      " [-0.354+0.j     0.   +0.354j -0.   -0.354j -0.354+0.j     0.354-0.j\n",
      "  -0.   -0.354j  0.   +0.354j  0.354-0.j   ]\n",
      " [-0.   -0.354j  0.354-0.j     0.   +0.354j -0.354+0.j     0.   +0.354j\n",
      "  -0.354+0.j    -0.   -0.354j  0.354-0.j   ]]\n"
     ]
    }
   ],
   "source": [
    "backend = Aer.get_backend('unitary_simulator')\n",
    "job = execute(qc, backend)\n",
    "result = job.result()\n",
    "print(result.get_unitary(qc, decimals=3))"
   ]
  },
  {
   "cell_type": "markdown",
   "metadata": {},
   "source": [
    "------------"
   ]
  },
  {
   "cell_type": "markdown",
   "metadata": {},
   "source": [
    "#### All Gates together in 4-qubit circut"
   ]
  },
  {
   "cell_type": "code",
   "execution_count": 6,
   "metadata": {},
   "outputs": [
    {
     "data": {
      "image/png": "[encoded data removed]",
      "text/plain": [
       "<Figure size 851.228x264.88 with 1 Axes>"
      ]
     },
     "execution_count": 6,
     "metadata": {},
     "output_type": "execute_result"
    }
   ],
   "source": [
    "q = QuantumRegister(4)\n",
    "qc = QuantumCircuit(q)\n",
    "\n",
    "qc.u3(pi/2,pi/2,pi/2,q[0])\n",
    "qc.cu1(pi/2,q[0], q[1])\n",
    "qc.u2(pi/2,pi/2,q[1])\n",
    "qc.u1(pi/2,q[2])\n",
    "qc.x(q[0])\n",
    "qc.ccx(q[1],q[2],q[3])\n",
    "qc.y(q[1])\n",
    "qc.z(q[2])\n",
    "qc.cx(q[2],q[3])\n",
    "qc.z(q[3])\n",
    "qc.h(q[3])\n",
    "qc.s(q[0])\n",
    "qc.cu1(pi/2,q[1], q[2])\n",
    "qc.swap(q[0],q[2])\n",
    "qc.cswap(q[0],q[1],q[3])\n",
    "\n",
    "qc.draw(output='mpl')"
   ]
  },
  {
   "cell_type": "code",
   "execution_count": 8,
   "metadata": {},
   "outputs": [
    {
     "name": "stdout",
     "output_type": "stream",
     "text": [
      "[[ 0.   +0.354j -0.354+0.j    -0.   -0.354j  0.354-0.j     0.   +0.j\n",
      "   0.   +0.j     0.   +0.j     0.   +0.j    -0.   -0.354j  0.354-0.j\n",
      "   0.   +0.354j -0.354+0.j     0.   +0.j     0.   +0.j     0.   +0.j\n",
      "   0.   +0.j   ]\n",
      " [ 0.   +0.j     0.   +0.j     0.   +0.j     0.   +0.j     0.354-0.j\n",
      "   0.   +0.354j -0.354+0.j    -0.   -0.354j  0.   +0.j     0.   +0.j\n",
      "   0.   +0.j     0.   +0.j    -0.354+0.j    -0.   -0.354j  0.354-0.j\n",
      "   0.   +0.354j]\n",
      " [-0.354+0.j    -0.   -0.354j -0.354+0.j    -0.   -0.354j  0.   +0.j\n",
      "   0.   +0.j     0.   +0.j     0.   +0.j     0.354-0.j     0.   +0.354j\n",
      "   0.354-0.j     0.   +0.354j  0.   +0.j     0.   +0.j     0.   +0.j\n",
      "   0.   +0.j   ]\n",
      " [ 0.   +0.j     0.   +0.j     0.   +0.j     0.   +0.j     0.354-0.j\n",
      "   0.   +0.354j -0.354+0.j    -0.   -0.354j  0.   +0.j     0.   +0.j\n",
      "   0.   +0.j     0.   +0.j     0.354-0.j     0.   +0.354j -0.354+0.j\n",
      "  -0.   -0.354j]\n",
      " [ 0.   +0.354j  0.354-0.j    -0.354+0.j     0.   +0.354j  0.   +0.j\n",
      "   0.   +0.j     0.   +0.j     0.   +0.j    -0.   -0.354j -0.354+0.j\n",
      "   0.354-0.j    -0.   -0.354j  0.   +0.j     0.   +0.j     0.   +0.j\n",
      "   0.   +0.j   ]\n",
      " [ 0.   +0.j     0.   +0.j     0.   +0.j     0.   +0.j     0.354-0.j\n",
      "  -0.   -0.354j  0.   +0.354j  0.354-0.j     0.   +0.j     0.   +0.j\n",
      "   0.   +0.j     0.   +0.j    -0.354+0.j     0.   +0.354j -0.   -0.354j\n",
      "  -0.354+0.j   ]\n",
      " [-0.354+0.j     0.   +0.354j  0.   +0.354j  0.354-0.j     0.   +0.j\n",
      "   0.   +0.j     0.   +0.j     0.   +0.j     0.354-0.j    -0.   -0.354j\n",
      "  -0.   -0.354j -0.354+0.j     0.   +0.j     0.   +0.j     0.   +0.j\n",
      "   0.   +0.j   ]\n",
      " [ 0.   +0.j     0.   +0.j     0.   +0.j     0.   +0.j     0.354-0.j\n",
      "  -0.   -0.354j  0.   +0.354j  0.354-0.j     0.   +0.j     0.   +0.j\n",
      "   0.   +0.j     0.   +0.j     0.354-0.j    -0.   -0.354j  0.   +0.354j\n",
      "   0.354-0.j   ]\n",
      " [ 0.   +0.354j -0.354+0.j    -0.   -0.354j  0.354-0.j     0.   +0.j\n",
      "   0.   +0.j     0.   +0.j     0.   +0.j     0.   +0.354j -0.354+0.j\n",
      "  -0.   -0.354j  0.354-0.j     0.   +0.j     0.   +0.j     0.   +0.j\n",
      "   0.   +0.j   ]\n",
      " [ 0.   +0.j     0.   +0.j     0.   +0.j     0.   +0.j     0.354-0.j\n",
      "   0.   +0.354j  0.354-0.j     0.   +0.354j  0.   +0.j     0.   +0.j\n",
      "   0.   +0.j     0.   +0.j    -0.354+0.j    -0.   -0.354j -0.354+0.j\n",
      "  -0.   -0.354j]\n",
      " [-0.354+0.j    -0.   -0.354j -0.354+0.j    -0.   -0.354j  0.   +0.j\n",
      "   0.   +0.j     0.   +0.j     0.   +0.j    -0.354+0.j    -0.   -0.354j\n",
      "  -0.354+0.j    -0.   -0.354j  0.   +0.j     0.   +0.j     0.   +0.j\n",
      "   0.   +0.j   ]\n",
      " [ 0.   +0.j     0.   +0.j     0.   +0.j     0.   +0.j    -0.354+0.j\n",
      "  -0.   -0.354j -0.354+0.j    -0.   -0.354j  0.   +0.j     0.   +0.j\n",
      "   0.   +0.j     0.   +0.j    -0.354+0.j    -0.   -0.354j -0.354+0.j\n",
      "  -0.   -0.354j]\n",
      " [ 0.   +0.354j  0.354-0.j    -0.354+0.j     0.   +0.354j  0.   +0.j\n",
      "   0.   +0.j     0.   +0.j     0.   +0.j     0.   +0.354j  0.354-0.j\n",
      "  -0.354+0.j     0.   +0.354j  0.   +0.j     0.   +0.j     0.   +0.j\n",
      "   0.   +0.j   ]\n",
      " [ 0.   +0.j     0.   +0.j     0.   +0.j     0.   +0.j     0.354-0.j\n",
      "  -0.   -0.354j -0.   -0.354j -0.354+0.j     0.   +0.j     0.   +0.j\n",
      "   0.   +0.j     0.   +0.j    -0.354+0.j     0.   +0.354j  0.   +0.354j\n",
      "   0.354-0.j   ]\n",
      " [-0.354+0.j     0.   +0.354j  0.   +0.354j  0.354-0.j     0.   +0.j\n",
      "   0.   +0.j     0.   +0.j     0.   +0.j    -0.354+0.j     0.   +0.354j\n",
      "   0.   +0.354j  0.354-0.j     0.   +0.j     0.   +0.j     0.   +0.j\n",
      "   0.   +0.j   ]\n",
      " [ 0.   +0.j     0.   +0.j     0.   +0.j     0.   +0.j    -0.354+0.j\n",
      "   0.   +0.354j  0.   +0.354j  0.354-0.j     0.   +0.j     0.   +0.j\n",
      "   0.   +0.j     0.   +0.j    -0.354+0.j     0.   +0.354j  0.   +0.354j\n",
      "   0.354-0.j   ]]\n"
     ]
    }
   ],
   "source": [
    "backend = Aer.get_backend('unitary_simulator')\n",
    "job = execute(qc, backend)\n",
    "result = job.result()\n",
    "print(result.get_unitary(qc, decimals=3))"
   ]
  },
  {
   "cell_type": "code",
   "execution_count": null,
   "metadata": {},
   "outputs": [],
   "source": []
  }
 ],
 "metadata": {
  "kernelspec": {
   "display_name": "Python 3",
   "language": "python",
   "name": "python3"
  },
  "language_info": {
   "codemirror_mode": {
    "name": "ipython",
    "version": 3
   },
   "file_extension": ".py",
   "mimetype": "text/x-python",
   "name": "python",
   "nbconvert_exporter": "python",
   "pygments_lexer": "ipython3",
   "version": "3.7.3"
  }
 },
 "nbformat": 4,
 "nbformat_minor": 2
}
