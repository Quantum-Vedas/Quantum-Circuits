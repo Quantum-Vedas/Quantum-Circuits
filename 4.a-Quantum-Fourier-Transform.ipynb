{
 "cells": [
  {
   "cell_type": "markdown",
   "metadata": {},
   "source": [
    "# Quantum Fourier Transform \n"
   ]
  },
  {
   "cell_type": "code",
   "execution_count": 1,
   "metadata": {},
   "outputs": [],
   "source": [
    "from qiskit import *\n",
    "from math import pi\n",
    "import numpy as np\n",
    "from qiskit.visualization import *\n",
    "import matplotlib.pyplot as plt\n",
    "from qutip import *"
   ]
  },
  {
   "cell_type": "markdown",
   "metadata": {},
   "source": [
    "\n",
    "\n",
    "QFT is defined as\n",
    "\n",
    "$ QFT:|x> = \\frac{1}{\\sqrt{N}}\\sum_{k=0}^{N-1} \\omega_{x}^{k}|k>$\n",
    "\n",
    "where $\\omega_{x}^{k}$ is $N^{th}$ ($N = 2^{n}$) root of unity: $e^{\\frac{2\\pi i}{2^{n}}}$.\n",
    "\n",
    "QFT: $F_{N} =  \\frac{1}{\\sqrt{N}} \\begin{bmatrix}\n",
    "    1  &         1   &        1       &     1          &   \\cdots   &  1   \\\\\n",
    "    1  &  \\omega_{n} & \\omega_{n}^{2} & \\omega_{n}^{3} &   \\cdots   & \\omega_{n} ^{N-1}\\\\\n",
    "    1  &  \\omega_{n}^{2} & \\omega_{n}^{4} & \\omega_{n}^{6} &   \\cdots   & \\omega_{n} ^{2(N-1)}\\\\\n",
    "    1  &  \\omega_{n}^{3} & \\omega_{n}^{6} & \\omega_{n}^{9} &   \\cdots   & \\omega_{n} ^{3(N-1)}\\\\\n",
    "   \\vdots  & \\vdots  & \\vdots         & \\vdots         &    \\dots   & \\vdots \\\\\n",
    "   1  &  \\omega_{n}^{(N-1)} & \\omega_{n}^{2(N-1)} & \\omega_{n}^{3(N-1)} &   \\cdots   & \\omega_{n} ^{(N-1((N-1)}\\\\\n",
    "\\end{bmatrix}$\n",
    "\n",
    "\n",
    "\n"
   ]
  },
  {
   "cell_type": "markdown",
   "metadata": {},
   "source": [
    "### 1. QFT ( 1 qubit)\n",
    "\n",
    "\n",
    "\n",
    "For single qubit circuit ($n = 1, N = 2^{1} = 2)$\n",
    "\n",
    "\n",
    "$\\omega_n = e^{\\frac{2\\pi i}{2^{n}}} = -1$.\n",
    "\n",
    "QFT = $\\frac{1}{\\sqrt{2}} \\begin{bmatrix}\n",
    "    1  &   1 \\\\\n",
    "    1  &  -1\n",
    "\\end{bmatrix}$\n",
    "    \n",
    "It is very simple, QFT in single qubit id just a Hadamate operation.\n"
   ]
  },
  {
   "cell_type": "markdown",
   "metadata": {},
   "source": [
    "### 2. QFT (2 qubits)"
   ]
  },
  {
   "cell_type": "markdown",
   "metadata": {},
   "source": [
    "\n",
    "    \n",
    "For two qubit circuit, ($n =2, N = 2^{2} = 4)$\n",
    "\n",
    "\n",
    "$\\omega_{n} = e^{\\frac{2\\pi i}{2^{n}}} = i$\n",
    "\n",
    "$QFT_2 = \\frac{1}{{2}} \\begin{bmatrix}\n",
    "    1  &   1  &  1  &   1\\\\\n",
    "    1  &   i  &  -1  &  -i\\\\\n",
    "    1  &   -1  &  1  &   -1\\\\\n",
    "    1  &  -i  &  -1  &  i\n",
    "\\end{bmatrix}$\n",
    " \n",
    "Our task is to represent this matrix in terms of fundamental gate metrix."
   ]
  },
  {
   "cell_type": "markdown",
   "metadata": {},
   "source": [
    "#### 2.2 Circuit"
   ]
  },
  {
   "cell_type": "code",
   "execution_count": 6,
   "metadata": {},
   "outputs": [
    {
     "data": {
      "image/png": "[encoded data removed]",
      "text/plain": [
       "<Figure size 599.592x144.48 with 1 Axes>"
      ]
     },
     "execution_count": 6,
     "metadata": {},
     "output_type": "execute_result"
    }
   ],
   "source": [
    "qc = QuantumCircuit(2)\n",
    "qc.h(1)\n",
    "qc.barrier()\n",
    "qc.cu1(np.pi/2, 0, 1)\n",
    "qc.barrier()\n",
    "qc.h(0)\n",
    "qc.barrier()\n",
    "qc.swap(0,1)\n",
    "qc.draw('mpl')"
   ]
  },
  {
   "cell_type": "markdown",
   "metadata": {},
   "source": [
    "#### 2.3  State vector\n",
    "\n",
    "Lets observe what happens to quantum state as we pass through these quantum gates one by one: \n",
    "\n",
    "\n",
    "\n",
    "<ul>    \n",
    "<li> Initial state: |00>\n",
    "<li> After Hadamard Gate on qubit 2 : $\\frac{1}{\\sqrt{2}}|00> + \\frac{1}{\\sqrt{2}}|10> $\n",
    "<li> After phase shift Gate : $\\frac{1}{\\sqrt{2}}|00> + \\frac{1}{\\sqrt{2}}|10> $\n",
    "<li> After Hadamard Gate on qubit 1 : $\\frac{1}{{2}}|00> + \\frac{1}{{2}}|01>  +  \\frac{1}{{2}}|10> - \\frac{1}{{2}}|11>$\n",
    "<li> After SWAP:  $\\frac{1}{{2}}|00> + \\frac{1}{{2}}|10>  +  \\frac{1}{{2}}|01> - \\frac{1}{{2}}|11>$\n"
   ]
  },
  {
   "cell_type": "code",
   "execution_count": 7,
   "metadata": {},
   "outputs": [
    {
     "name": "stdout",
     "output_type": "stream",
     "text": [
      "[0.5+0.j 0.5+0.j 0.5+0.j 0.5+0.j]\n"
     ]
    }
   ],
   "source": [
    "backend = Aer.get_backend('statevector_simulator')\n",
    "out = execute(qc,backend).result().get_statevector()\n",
    "print(out)"
   ]
  },
  {
   "cell_type": "markdown",
   "metadata": {},
   "source": [
    "#### 2.5 State vector as tensor product"
   ]
  },
  {
   "cell_type": "markdown",
   "metadata": {},
   "source": [
    "\n",
    "    \n",
    " Since this circuit consists of pure superposition brought up by hadamard gate, it is possible to obtain final state vector by taking direct product of single qubit states. Results from operation of H gate on single qubit can be multiplied with direct product operation to get final state.\n",
    "    \n",
    "$ \\frac{1}{\\sqrt{2}} (|0 \\rangle + | 1\\rangle) \\otimes \\frac{1}{\\sqrt{2}}(|0 \\rangle + | 1\\rangle) = \\frac{1}{2}(|00 \\rangle + |01 \\rangle + |10 \\rangle + |11 \\rangle $\n",
    "    \n",
    "\n",
    "i.e., $\\frac{1}{\\sqrt{2}}\\begin{bmatrix}\n",
    "    1   \\\\\n",
    "    1 \n",
    "\\end{bmatrix} \\otimes \\frac{1}{\\sqrt{2}} \\begin{bmatrix}\n",
    "    1   \\\\\n",
    "    1 \n",
    "\\end{bmatrix} = \\frac{1}{2} \\begin{bmatrix}\n",
    "    1   \\\\\n",
    "    1 \\\\\n",
    "    1 \\\\\n",
    "    1\n",
    "\\end{bmatrix}$\n",
    "\n",
    "Where $|00 \\rangle , |01 \\rangle , |10 \\rangle $ and $ |11 \\rangle $ are basis states for two qubit system.\n"
   ]
  },
  {
   "cell_type": "markdown",
   "metadata": {},
   "source": [
    "#### 2.6 Matrix Element"
   ]
  },
  {
   "cell_type": "markdown",
   "metadata": {},
   "source": [
    "#### How to realize it the quantum circuit?\n",
    "\n",
    "\n",
    "    \n",
    "    \n",
    "$ I = \\begin{bmatrix}\n",
    "    1  &   0 \\\\\n",
    "    0  &   1\n",
    "\\end{bmatrix};H = \\frac{1}{\\sqrt{2}} \\begin{bmatrix}\n",
    "    1  &   0 \\\\\n",
    "    0  &   1\n",
    "\\end{bmatrix}; C_{u1} = \\begin{pmatrix}\n",
    "1 & 0 & 0 & 0\\\\\n",
    "0 & 1 & 0 & 0\\\\\n",
    "0 & 0 & 1 & 0\\\\\n",
    "0 & 0 & 0 & i\n",
    "\\end{pmatrix}; SWAP =\\begin{pmatrix}\n",
    "1 & 0 & 0 & 0\\\\\n",
    "0 & 0 & 1 & 0\\\\\n",
    "0 & 1 & 0 & 0\\\\\n",
    "0 & 0 & 0 & 1\n",
    "\\end{pmatrix}$\n",
    "\n",
    "\n",
    "At first barrier: $ U_1 = I \\otimes H $\n",
    "    \n",
    "At second barrier: $ U_2 =  C _{u1} \\times (I \\otimes H) $\n",
    "    \n",
    "At third barrier: $ U_3 = (H \\otimes I) \\times C _{u1} \\times (I \\otimes H) $    \n",
    "\n",
    "At fourth barrier: $U_4 =  SWAP \\times (H \\otimes I) \\times C _{u1} \\times (I \\otimes H) $     "
   ]
  },
  {
   "cell_type": "code",
   "execution_count": 8,
   "metadata": {},
   "outputs": [
    {
     "name": "stdout",
     "output_type": "stream",
     "text": [
      "[[ 0.5+0.j   0.5-0.j   0.5-0.j   0.5-0.j ]\n",
      " [ 0.5+0.j   0. +0.5j -0.5+0.j  -0. -0.5j]\n",
      " [ 0.5+0.j  -0.5+0.j   0.5-0.j  -0.5+0.j ]\n",
      " [ 0.5+0.j  -0. -0.5j -0.5+0.j   0. +0.5j]]\n"
     ]
    }
   ],
   "source": [
    "backend = Aer.get_backend('unitary_simulator')\n",
    "job = execute(qc, backend)\n",
    "result = job.result()\n",
    "print(result.get_unitary(qc, decimals=3))"
   ]
  },
  {
   "cell_type": "markdown",
   "metadata": {},
   "source": [
    "- Implementing Numpy"
   ]
  },
  {
   "cell_type": "code",
   "execution_count": 99,
   "metadata": {},
   "outputs": [],
   "source": [
    "I = np.eye(2,2)\n",
    "H = 1/np.sqrt(2)*np.array([[1,1],[1,-1]])\n",
    "H_kron_I = np.kron(H,I)\n",
    "CU1 = np.array([[1,0,0,0],[0,1,0,0],[0,0,1,0],[0,0,0,0.+1.j]])\n",
    "I_kron_H = np.kron(I,H)\n",
    "SWAP = np.array([[1,0,0,0],[0,0,1,0],[0,1,0,0],[0,0,0,1]])"
   ]
  },
  {
   "cell_type": "code",
   "execution_count": 100,
   "metadata": {},
   "outputs": [
    {
     "data": {
      "text/plain": [
       "array([[ 0.5+0.j ,  0.5+0.j ,  0.5+0.j ,  0.5+0.j ],\n",
       "       [ 0.5+0.j ,  0. +0.5j, -0.5+0.j ,  0. -0.5j],\n",
       "       [ 0.5+0.j , -0.5+0.j ,  0.5+0.j , -0.5+0.j ],\n",
       "       [ 0.5+0.j ,  0. -0.5j, -0.5+0.j ,  0. +0.5j]])"
      ]
     },
     "execution_count": 100,
     "metadata": {},
     "output_type": "execute_result"
    }
   ],
   "source": [
    "U = np.dot(H_kron_I,np.dot(CU1,np.dot(I_kron_H,SWAP)))\n",
    "U"
   ]
  },
  {
   "cell_type": "code",
   "execution_count": 101,
   "metadata": {},
   "outputs": [
    {
     "data": {
      "text/plain": [
       "array([0.5+0.j, 0.5+0.j, 0.5+0.j, 0.5+0.j])"
      ]
     },
     "execution_count": 101,
     "metadata": {},
     "output_type": "execute_result"
    }
   ],
   "source": [
    "ket = np.array([1,0,0,0])\n",
    "np.dot(U,ket)"
   ]
  },
  {
   "cell_type": "markdown",
   "metadata": {},
   "source": [
    "### 3. QFT (3 qubits)\n",
    "\n",
    "#### 3.1 Circuit Diagram"
   ]
  },
  {
   "cell_type": "code",
   "execution_count": 13,
   "metadata": {},
   "outputs": [],
   "source": [
    "def qft3():\n",
    "    n = 3\n",
    "    q = QuantumRegister(n)\n",
    "    c = ClassicalRegister(n)\n",
    "    qc = QuantumCircuit(q,c)\n",
    "    qc.h(q[2])\n",
    "    qc.barrier()\n",
    "    qc.cu1(np.pi/2, q[1], q[2])\n",
    "    qc.barrier()\n",
    "    qc.h(q[1])\n",
    "    qc.barrier()\n",
    "    qc.cu1(np.pi/4, q[0], q[2])\n",
    "    qc.barrier()\n",
    "    qc.cu1(np.pi/2, q[0], q[1])\n",
    "    qc.barrier()\n",
    "    qc.h(q[0])\n",
    "    qc.barrier()\n",
    "    qc.swap(q[0], q[2])\n",
    "    return q,c,qc"
   ]
  },
  {
   "cell_type": "code",
   "execution_count": 14,
   "metadata": {},
   "outputs": [
    {
     "data": {
      "image/png": "[encoded data removed]",
      "text/plain": [
       "<Figure size 1031.83x264.88 with 1 Axes>"
      ]
     },
     "execution_count": 14,
     "metadata": {},
     "output_type": "execute_result"
    }
   ],
   "source": [
    "q,c,qc = qft3()\n",
    "qc.barrier()\n",
    "qc.draw(output='mpl')"
   ]
  },
  {
   "cell_type": "markdown",
   "metadata": {},
   "source": [
    "#### 3.2 State vector\n",
    "\n",
    "\n",
    "    \n",
    "<ul>        \n",
    "<li> Initial state: |000>\n",
    "<li> After Hadamard Gate on 3rd qubit : $\\frac{1}{\\sqrt{2}}(|000> + |001>) $\n",
    "<li> After CU1 gate on qubit (2,3) : $\\frac{1}{\\sqrt{2}}(|000> + |001>) $\n",
    "<li> After CU1 gate on qubit (1,3) : $\\frac{1}{\\sqrt{2}}(|000> + |001>) $\n",
    "<li> After Hadamard Gate on qubit 2 : $\\frac{1}{{2}}(|000> + |010> +  |001> -|011> )$\n",
    "<li> After CU1 gate on qubit (0,1): $\\frac{1}{{2}}(|000> + |010> +  |001> -|011> )$\n",
    "<li> After Hadamard Gate on qubit 3 : $\\frac{1}{2\\sqrt{2}}(|000> + |001> +  |010> + |011> +  |000> - |001> - |010> + |011)$\n",
    "    \n",
    "    "
   ]
  },
  {
   "cell_type": "code",
   "execution_count": 16,
   "metadata": {},
   "outputs": [
    {
     "name": "stdout",
     "output_type": "stream",
     "text": [
      "[0.35355339+0.j 0.35355339+0.j 0.35355339+0.j 0.35355339+0.j\n",
      " 0.35355339+0.j 0.35355339+0.j 0.35355339+0.j 0.35355339+0.j]\n"
     ]
    }
   ],
   "source": [
    "backend = Aer.get_backend('statevector_simulator')\n",
    "out = execute(qc,backend).result().get_statevector()\n",
    "print(out)"
   ]
  },
  {
   "cell_type": "markdown",
   "metadata": {},
   "source": [
    "### Measurement"
   ]
  },
  {
   "cell_type": "code",
   "execution_count": null,
   "metadata": {},
   "outputs": [],
   "source": []
  },
  {
   "cell_type": "code",
   "execution_count": null,
   "metadata": {},
   "outputs": [],
   "source": []
  },
  {
   "cell_type": "code",
   "execution_count": null,
   "metadata": {},
   "outputs": [],
   "source": []
  },
  {
   "cell_type": "markdown",
   "metadata": {},
   "source": [
    "### References\n",
    "-----\n",
    "1. https://www.youtube.com/watch?v=bntew-yoMzk "
   ]
  }
 ],
 "metadata": {
  "kernelspec": {
   "display_name": "Python 3",
   "language": "python",
   "name": "python3"
  },
  "language_info": {
   "codemirror_mode": {
    "name": "ipython",
    "version": 3
   },
   "file_extension": ".py",
   "mimetype": "text/x-python",
   "name": "python",
   "nbconvert_exporter": "python",
   "pygments_lexer": "ipython3",
   "version": "3.7.3"
  }
 },
 "nbformat": 4,
 "nbformat_minor": 2
}
