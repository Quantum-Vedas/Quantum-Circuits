{
 "cells": [
  {
   "cell_type": "code",
   "execution_count": 1,
   "metadata": {},
   "outputs": [],
   "source": [
    "import matplotlib.pyplot as plt\n",
    "%matplotlib inline\n",
    "import numpy as np\n",
    "\n",
    "from qiskit import *\n",
    "\n",
    "from qiskit.tools.visualization import plot_histogram\n",
    "from IPython.display import display, Math, Latex"
   ]
  },
  {
   "cell_type": "markdown",
   "metadata": {},
   "source": [
    "# Increment\n",
    "\n",
    "Takes an arbitrary input state $|x\\rangle$ on $n$ and takes it to the $|(x+1)\\text{mod N}\\rangle$, where $N = 2^n$ state in the binary representation, which can be done by applying the following circuit $U$.\n",
    "\n",
    "Let $|x\\rangle$ be an arbitrary state on $n$ qubits,\n",
    "\n",
    "$$\n",
    "    \\begin{align*}\n",
    "        U|x\\rangle = |(x+1)\\text{mod N}\\rangle\n",
    "    \\end{align*}\n",
    "$$\n",
    "\n",
    "Where $U$ defines an opperation that applis multiple $1$ multi-controlled $X$ gates and flips the first qubit.\n",
    "\n",
    "Here we give an example on $n = 3$ qubits.\n",
    "\n",
    "| Initial State $|x\\rangle$              | Final State $U|x\\rangle$ |\n",
    "| ------------- | ------------- |\n",
    "| $|000\\rangle$  | $|001\\rangle$  |\n",
    "| $|001\\rangle$  | $|010\\rangle$  |\n",
    "| $|010\\rangle$  | $|011\\rangle$  |\n",
    "| $|011\\rangle$  | $|100\\rangle$  |\n",
    "| $|100\\rangle$  | $|101\\rangle$  |\n",
    "| $|101\\rangle$  | $|110\\rangle$  |\n",
    "| $|110\\rangle$  | $|111\\rangle$  |\n",
    "| $|111\\rangle$  | $|000\\rangle$  |"
   ]
  },
  {
   "cell_type": "code",
   "execution_count": 2,
   "metadata": {},
   "outputs": [],
   "source": [
    "def Increment(n):\n",
    "    U = QuantumCircuit(n)\n",
    "    control = [x for x in range(n-1)]\n",
    "    for k in range(n-1):\n",
    "        U.mcx(control, control[-1]+1)\n",
    "        control.pop()\n",
    "    U.x(0)\n",
    "    \n",
    "    U = U.to_gate()\n",
    "    U.name = 'Increment'\n",
    "    #ctl_U = U.control() make it a controlled gate\n",
    "    \n",
    "    return U"
   ]
  },
  {
   "cell_type": "code",
   "execution_count": 3,
   "metadata": {},
   "outputs": [
    {
     "data": {
      "image/png": "[encoded data removed]",
      "text/plain": [
       "<Figure size 599.592x264.88 with 1 Axes>"
      ]
     },
     "execution_count": 3,
     "metadata": {},
     "output_type": "execute_result"
    }
   ],
   "source": [
    "n = 3\n",
    "mc = QuantumCircuit(n, n)\n",
    "U = Increment(n)\n",
    "mc.append(U, range(n))\n",
    "\n",
    "mc.measure(range(n), range(n))\n",
    "\n",
    "backend = BasicAer.get_backend('qasm_simulator')\n",
    "atp = 1024\n",
    "res = execute(mc, backend=backend, shots=atp).result()\n",
    "ans = res.get_counts()\n",
    "\n",
    "mc.draw('mpl')"
   ]
  },
  {
   "cell_type": "code",
   "execution_count": 4,
   "metadata": {},
   "outputs": [
    {
     "data": {
      "image/png": "[encoded data removed]",
      "text/plain": [
       "<Figure size 504x360 with 1 Axes>"
      ]
     },
     "execution_count": 4,
     "metadata": {},
     "output_type": "execute_result"
    }
   ],
   "source": [
    "plot_histogram(ans)"
   ]
  }
 ],
 "metadata": {
  "kernelspec": {
   "display_name": "Python 3",
   "language": "python",
   "name": "python3"
  },
  "language_info": {
   "codemirror_mode": {
    "name": "ipython",
    "version": 3
   },
   "file_extension": ".py",
   "mimetype": "text/x-python",
   "name": "python",
   "nbconvert_exporter": "python",
   "pygments_lexer": "ipython3",
   "version": "3.8.2"
  }
 },
 "nbformat": 4,
 "nbformat_minor": 4
}
